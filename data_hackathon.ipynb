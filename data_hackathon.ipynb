{
 "cells": [
  {
   "cell_type": "code",
   "execution_count": 40,
   "metadata": {},
   "outputs": [
    {
     "name": "stdout",
     "output_type": "stream",
     "text": [
      "       yrsurv  WEIGHT_L  WEIGHT_A  GEMHHINC  knowent  opport  suskill  \\\n",
      "0        2011  1.415335  1.470729     68100      0.0    -1.0      0.0   \n",
      "1        2011  0.971677  1.009707      3467      0.0    -1.0      1.0   \n",
      "2        2011  2.545694  2.645328      3467      0.0     1.0     -1.0   \n",
      "3        2011  0.971677  1.009707        33      1.0     1.0      0.0   \n",
      "4        2011  1.319954  1.371615        -2      0.0     0.0      1.0   \n",
      "...       ...       ...       ...       ...      ...     ...      ...   \n",
      "28371    2017  0.942671  0.952578     68100      1.0     1.0      1.0   \n",
      "28372    2017  1.206530  1.219210        33      0.0     1.0      0.0   \n",
      "28373    2017  1.053133  1.064201     68100      1.0     1.0      1.0   \n",
      "28374    2017  1.057164  1.068274        -2      0.0     0.0      0.0   \n",
      "28375    2017  0.799854  0.808260      3467      0.0     1.0      0.0   \n",
      "\n",
      "       fearfail  futsup  discent  ...  hhsize  ushhinc  usreduc  ESTBBUSO  \\\n",
      "0           0.0     0.0      0.0  ...     5.0        6        5         0   \n",
      "1           0.0    -1.0      0.0  ...     6.0        4        4         0   \n",
      "2           1.0     1.0      0.0  ...     1.0        5        5         0   \n",
      "3           0.0     0.0      0.0  ...     1.0        3        4         0   \n",
      "4           0.0     1.0      0.0  ...     3.0       -2        1         0   \n",
      "...         ...     ...      ...  ...     ...      ...      ...       ...   \n",
      "28371       1.0     0.0      0.0  ...     3.0        7        6         0   \n",
      "28372       0.0     0.0      0.0  ...     2.0        4        5         0   \n",
      "28373       0.0     1.0      0.0  ...     6.0        7        5         0   \n",
      "28374       0.0     0.0      0.0  ...     3.0       -2        3         0   \n",
      "28375       0.0     0.0      0.0  ...     1.0        6        5         0   \n",
      "\n",
      "       IPACTLD_ALL  Region  race  TEA  TEANEC  TEAOPP  \n",
      "0                0       7    -2    0       0       0  \n",
      "1                0       4    -2    0       0       0  \n",
      "2                1       8    -2    1       0       1  \n",
      "3                0       4     1    0       0       0  \n",
      "4                0       4    -2    0       0       0  \n",
      "...            ...     ...   ...  ...     ...     ...  \n",
      "28371            0       4     1    0       0       0  \n",
      "28372            0       4     1    0       0       0  \n",
      "28373            0       7     1    1       0       1  \n",
      "28374            0       4     4    0       0       0  \n",
      "28375            0       2     1    0       0       0  \n",
      "\n",
      "[28376 rows x 23 columns]\n"
     ]
    },
    {
     "data": {
      "text/plain": [
       "0    23101\n",
       "1     2924\n",
       "Name: TEA, dtype: int64"
      ]
     },
     "execution_count": 40,
     "metadata": {},
     "output_type": "execute_result"
    }
   ],
   "source": [
    "import pandas as pd\n",
    "\n",
    "df = pd.read_csv(\"BI_Hackathon_Data.csv\")\n",
    "df.isna().sum()\n",
    "#since some columns have too much missing value, we decide to delter those columns in analyzing\n",
    "col = ['equalinc','nbgoodc','nbstatus','nbmedia','exbuscon','exreason','bafund','barel','TEAJOBGR','EB_JOBGR','EB_OWNER','TEAOWNER','TEAJOBNOW','EB_JOBNOW','TEACOMPET', 'EB_COMPET','TEANEWPR','EB_NEWPR','TEANEWTEC','EB_NEWTEC','TEAEXPORT','EB_EXPORT']\n",
    "df = df.drop(columns = col)\n",
    "print(df)\n",
    "df.isna().sum()\n",
    "missingcols = ['knowent','opport','suskill','fearfail', 'futsup','discent','busang','age9c','hhsize']\n",
    "df = df.dropna( subset = missingcols)\n",
    "df.isna().sum()\n",
    "df.to_csv(r'D:\\Data Analyst\\Babson Hackathon\\Hackathon.csv', index = False, header = True)\n",
    "df.TEA.value_counts()"
   ]
  },
  {
   "cell_type": "code",
   "execution_count": 41,
   "metadata": {},
   "outputs": [
    {
     "data": {
      "text/plain": [
       "\"\\nnew_england.to_csv(r'D:\\\\Data Analyst\\\\Babson Hackathon\\new_england.csv', index = False, header = True)\\nnew_york.to_csv(r'D:\\\\Data Analyst\\\\Babson Hackathon\\new_york.csv', index = False, header = True)\\nmid_atlantic.to_csv(r'D:\\\\Data Analyst\\\\Babson Hackathon\\\\mid_atlantic.csv', index = False, header = True)\\nsoutheast.to_csv(r'D:\\\\Data Analyst\\\\Babson Hackathon\\\\southeast.csv', index = False, header = True)\\ngreat_lakes.to_csv(r'D:\\\\Data Analyst\\\\Babson Hackathon\\\\great_lakes.csv', index = False, header = True)\\nsouth_central.to_csv(r'D:\\\\Data Analyst\\\\Babson Hackathon\\\\south_central.csv', index = False, header = True)\\nmidwest.to_csv(r'D:\\\\Data Analyst\\\\Babson Hackathon\\\\midwest.csv', index = False, header = True)\\nmountain_plains.to_csv(r'D:\\\\Data Analyst\\\\Babson Hackathon\\\\mountain_plains.csv', index = False, header = True)\\npacific_southwest.to_csv(r'D:\\\\Data Analyst\\\\Babson Hackathon\\\\pacific_southwest.csv', index = False, header = True)\\npacific_northwest.to_csv(r'D:\\\\Data Analyst\\\\Babson Hackathon\\\\pacific_northwest.csv', index = False, header = True)\\n\""
      ]
     },
     "execution_count": 41,
     "metadata": {},
     "output_type": "execute_result"
    }
   ],
   "source": [
    "import numpy as np\n",
    "import pandas as pd \n",
    "import seaborn as sns\n",
    "import matplotlib.pyplot as plt\n",
    "import statsmodels.formula.api as smf \n",
    "import statsmodels.api as sm\n",
    "from statsmodels.graphics.gofplots import ProbPlot\n",
    "\n",
    "new_england = df[df['Region'] == 1 ]\n",
    "new_york = df[df['Region'] == 2 ]\n",
    "mid_atlantic = df[df['Region'] == 3 ]\n",
    "southeast = df[df['Region'] == 4 ]\n",
    "great_lakes = df[df['Region'] == 5 ]\n",
    "south_central = df[df['Region'] == 6 ]\n",
    "midwest = df[df['Region'] == 7 ]\n",
    "mountain_plains = df[df['Region'] == 8 ]\n",
    "pacific_southwest = df[df['Region'] == 9 ]\n",
    "pacific_northwest = df[df['Region'] == 10 ]\n",
    "\n",
    "'''\n",
    "new_england.to_csv(r'D:\\Data Analyst\\Babson Hackathon\\new_england.csv', index = False, header = True)\n",
    "new_york.to_csv(r'D:\\Data Analyst\\Babson Hackathon\\new_york.csv', index = False, header = True)\n",
    "mid_atlantic.to_csv(r'D:\\Data Analyst\\Babson Hackathon\\mid_atlantic.csv', index = False, header = True)\n",
    "southeast.to_csv(r'D:\\Data Analyst\\Babson Hackathon\\southeast.csv', index = False, header = True)\n",
    "great_lakes.to_csv(r'D:\\Data Analyst\\Babson Hackathon\\great_lakes.csv', index = False, header = True)\n",
    "south_central.to_csv(r'D:\\Data Analyst\\Babson Hackathon\\south_central.csv', index = False, header = True)\n",
    "midwest.to_csv(r'D:\\Data Analyst\\Babson Hackathon\\midwest.csv', index = False, header = True)\n",
    "mountain_plains.to_csv(r'D:\\Data Analyst\\Babson Hackathon\\mountain_plains.csv', index = False, header = True)\n",
    "pacific_southwest.to_csv(r'D:\\Data Analyst\\Babson Hackathon\\pacific_southwest.csv', index = False, header = True)\n",
    "pacific_northwest.to_csv(r'D:\\Data Analyst\\Babson Hackathon\\pacific_northwest.csv', index = False, header = True)\n",
    "'''"
   ]
  },
  {
   "cell_type": "code",
   "execution_count": 42,
   "metadata": {},
   "outputs": [
    {
     "ename": "NameError",
     "evalue": "name 'new_england_without_weight' is not defined",
     "output_type": "error",
     "traceback": [
      "\u001b[1;31m---------------------------------------------------------------------------\u001b[0m",
      "\u001b[1;31mNameError\u001b[0m                                 Traceback (most recent call last)",
      "\u001b[1;32m<ipython-input-42-2dfec7fd446d>\u001b[0m in \u001b[0;36m<module>\u001b[1;34m\u001b[0m\n\u001b[0;32m      2\u001b[0m \u001b[0mnew_england\u001b[0m \u001b[1;33m=\u001b[0m \u001b[0mpd\u001b[0m\u001b[1;33m.\u001b[0m\u001b[0mread_csv\u001b[0m\u001b[1;33m(\u001b[0m\u001b[1;34m\"new_england.csv\"\u001b[0m\u001b[1;33m)\u001b[0m\u001b[1;33m\u001b[0m\u001b[1;33m\u001b[0m\u001b[0m\n\u001b[0;32m      3\u001b[0m \u001b[0mnew_england\u001b[0m \u001b[1;33m=\u001b[0m \u001b[0mnew_england\u001b[0m\u001b[1;33m.\u001b[0m\u001b[0mdrop\u001b[0m\u001b[1;33m(\u001b[0m\u001b[0mcolumns\u001b[0m \u001b[1;33m=\u001b[0m \u001b[1;33m[\u001b[0m\u001b[1;34m'Region'\u001b[0m\u001b[1;33m,\u001b[0m\u001b[1;34m'TEANEC'\u001b[0m\u001b[1;33m,\u001b[0m\u001b[1;34m'TEAOPP'\u001b[0m\u001b[1;33m]\u001b[0m\u001b[1;33m)\u001b[0m\u001b[1;33m\u001b[0m\u001b[1;33m\u001b[0m\u001b[0m\n\u001b[1;32m----> 4\u001b[1;33m \u001b[0mmodel_ols\u001b[0m \u001b[1;33m=\u001b[0m \u001b[0msmf\u001b[0m\u001b[1;33m.\u001b[0m\u001b[0mols\u001b[0m\u001b[1;33m(\u001b[0m\u001b[1;34m\"TEA ~ yrsurv+GEMHHINC+knowent+opport+suskill+fearfail+futsup+discent+busang+gender+age9c+hhsize+ushhinc+usreduc+ESTBBUSO+IPACTLD_ALL+race\"\u001b[0m\u001b[1;33m,\u001b[0m \u001b[0mdata\u001b[0m\u001b[1;33m=\u001b[0m\u001b[0mnew_england_without_weight\u001b[0m\u001b[1;33m)\u001b[0m\u001b[1;33m.\u001b[0m\u001b[0mfit\u001b[0m\u001b[1;33m(\u001b[0m\u001b[1;33m)\u001b[0m\u001b[1;33m\u001b[0m\u001b[1;33m\u001b[0m\u001b[0m\n\u001b[0m\u001b[0;32m      5\u001b[0m \u001b[0mprint\u001b[0m\u001b[1;33m(\u001b[0m\u001b[0mmodel_ols\u001b[0m\u001b[1;33m.\u001b[0m\u001b[0msummary\u001b[0m\u001b[1;33m(\u001b[0m\u001b[1;33m)\u001b[0m\u001b[1;33m)\u001b[0m\u001b[1;33m\u001b[0m\u001b[1;33m\u001b[0m\u001b[0m\n\u001b[0;32m      6\u001b[0m \u001b[1;33m\u001b[0m\u001b[0m\n",
      "\u001b[1;31mNameError\u001b[0m: name 'new_england_without_weight' is not defined"
     ]
    }
   ],
   "source": [
    "#linear regression\n",
    "new_england = pd.read_csv(\"new_england.csv\")\n",
    "new_england = new_england.drop(columns = ['Region','TEANEC','TEAOPP'])\n",
    "model_ols = smf.ols(\"TEA ~ yrsurv+GEMHHINC+knowent+opport+suskill+fearfail+futsup+discent+busang+gender+age9c+hhsize+ushhinc+usreduc+ESTBBUSO+IPACTLD_ALL+race\", data=new_england_without_weight).fit()\n",
    "print(model_ols.summary())\n",
    " \n",
    " "
   ]
  },
  {
   "cell_type": "code",
   "execution_count": null,
   "metadata": {},
   "outputs": [
    {
     "name": "stdout",
     "output_type": "stream",
     "text": [
      "                            WLS Regression Results                            \n",
      "==============================================================================\n",
      "Dep. Variable:                    TEA   R-squared:                       0.125\n",
      "Model:                            WLS   Adj. R-squared:                  0.110\n",
      "Method:                 Least Squares   F-statistic:                     8.082\n",
      "Date:                Tue, 09 Nov 2021   Prob (F-statistic):           2.43e-19\n",
      "Time:                        23:02:37   Log-Likelihood:                -217.29\n",
      "No. Observations:                 980   AIC:                             470.6\n",
      "Df Residuals:                     962   BIC:                             558.6\n",
      "Df Model:                          17                                         \n",
      "Covariance Type:            nonrobust                                         \n",
      "===============================================================================\n",
      "                  coef    std err          t      P>|t|      [0.025      0.975]\n",
      "-------------------------------------------------------------------------------\n",
      "const          10.2033     10.913      0.935      0.350     -11.213      31.620\n",
      "yrsurv         -0.0050      0.005     -0.926      0.355      -0.016       0.006\n",
      "GEMHHINC     -5.36e-07   4.72e-07     -1.135      0.256   -1.46e-06     3.9e-07\n",
      "knowent         0.1001      0.022      4.647      0.000       0.058       0.142\n",
      "opport          0.0183      0.014      1.316      0.189      -0.009       0.046\n",
      "suskill         0.0948      0.018      5.271      0.000       0.060       0.130\n",
      "fearfail        0.0075      0.017      0.439      0.661      -0.026       0.041\n",
      "futsup          0.1107      0.024      4.578      0.000       0.063       0.158\n",
      "discent         0.0270      0.060      0.450      0.653      -0.091       0.145\n",
      "busang         -0.0040      0.039     -0.102      0.919      -0.081       0.073\n",
      "gender         -0.0455      0.019     -2.369      0.018      -0.083      -0.008\n",
      "age9c          -0.0065      0.006     -1.043      0.297      -0.019       0.006\n",
      "hhsize          0.0079      0.006      1.318      0.188      -0.004       0.020\n",
      "ushhinc        -0.0024      0.004     -0.544      0.586      -0.011       0.006\n",
      "usreduc         0.0050      0.006      0.827      0.408      -0.007       0.017\n",
      "ESTBBUSO       -0.1172      0.034     -3.479      0.001      -0.183      -0.051\n",
      "IPACTLD_ALL     0.0307      0.047      0.646      0.518      -0.062       0.124\n",
      "race            0.0099      0.006      1.753      0.080      -0.001       0.021\n",
      "==============================================================================\n",
      "Omnibus:                      494.518   Durbin-Watson:                   2.001\n",
      "Prob(Omnibus):                  0.000   Jarque-Bera (JB):             2466.024\n",
      "Skew:                           2.394   Prob(JB):                         0.00\n",
      "Kurtosis:                       9.121   Cond. No.                     4.96e+07\n",
      "==============================================================================\n",
      "\n",
      "Notes:\n",
      "[1] Standard Errors assume that the covariance matrix of the errors is correctly specified.\n",
      "[2] The condition number is large, 4.96e+07. This might indicate that there are\n",
      "strong multicollinearity or other numerical problems.\n"
     ]
    }
   ],
   "source": [
    "#linear regression with weight\n",
    "y=new_england['TEA']\n",
    "new_cols = ['yrsurv','GEMHHINC','knowent','opport','suskill','fearfail','futsup','discent','busang','gender','age9c','hhsize','ushhinc','usreduc','ESTBBUSO','IPACTLD_ALL','race']\n",
    "x=new_england[new_cols]\n",
    "\n",
    "## add a intercept point\n",
    "x = sm.add_constant(x)\n",
    " \n",
    "## Compute the weight and add it to the column named \"weight_1\"\n",
    " \n",
    "model_wls_1 = sm.WLS(y, x, new_england_without_weight['WEIGHT_A'])\n",
    "mod_res_1 = model_wls_1.fit()\n",
    "print(mod_res_1.summary())\n",
    "\n"
   ]
  },
  {
   "cell_type": "code",
   "execution_count": null,
   "metadata": {},
   "outputs": [
    {
     "name": "stdout",
     "output_type": "stream",
     "text": [
      "Requirement already satisfied: lightgbm in c:\\users\\ywang31\\anaconda3\\lib\\site-packages (3.3.1)\n",
      "Requirement already satisfied: scipy in c:\\users\\ywang31\\anaconda3\\lib\\site-packages (from lightgbm) (1.6.2)\n",
      "Requirement already satisfied: wheel in c:\\users\\ywang31\\anaconda3\\lib\\site-packages (from lightgbm) (0.36.2)\n",
      "Requirement already satisfied: scikit-learn!=0.22.0 in c:\\users\\ywang31\\anaconda3\\lib\\site-packages (from lightgbm) (0.24.1)\n",
      "Requirement already satisfied: numpy in c:\\users\\ywang31\\anaconda3\\lib\\site-packages (from lightgbm) (1.20.1)\n",
      "Requirement already satisfied: joblib>=0.11 in c:\\users\\ywang31\\anaconda3\\lib\\site-packages (from scikit-learn!=0.22.0->lightgbm) (1.0.1)\n",
      "Requirement already satisfied: threadpoolctl>=2.0.0 in c:\\users\\ywang31\\anaconda3\\lib\\site-packages (from scikit-learn!=0.22.0->lightgbm) (2.1.0)\n",
      "LightGBM Model accuracy score: 0.8878\n",
      "Training-set accuracy score: 0.9985\n",
      "Training set score: 0.9985\n",
      "Test set score: 0.8878\n",
      "Confusion matrix\n",
      "\n",
      " [[260  10]\n",
      " [ 23   1]]\n",
      "\n",
      "True Positives(TP) =  260\n",
      "\n",
      "True Negatives(TN) =  1\n",
      "\n",
      "False Positives(FP) =  10\n",
      "\n",
      "False Negatives(FN) =  23\n",
      "              precision    recall  f1-score   support\n",
      "\n",
      "           0       0.92      0.96      0.94       270\n",
      "           1       0.09      0.04      0.06        24\n",
      "\n",
      "    accuracy                           0.89       294\n",
      "   macro avg       0.50      0.50      0.50       294\n",
      "weighted avg       0.85      0.89      0.87       294\n",
      "\n"
     ]
    },
    {
     "data": {
      "image/png": "[encoded data removed]",
      "text/plain": [
       "<Figure size 432x288 with 2 Axes>"
      ]
     },
     "metadata": {
      "needs_background": "light"
     },
     "output_type": "display_data"
    },
    {
     "data": {
      "image/png": "[encoded data removed]",
      "text/plain": [
       "<Figure size 1440x720 with 1 Axes>"
      ]
     },
     "metadata": {
      "needs_background": "light"
     },
     "output_type": "display_data"
    },
    {
     "data": {
      "text/plain": [
       "<Figure size 432x288 with 0 Axes>"
      ]
     },
     "metadata": {},
     "output_type": "display_data"
    }
   ],
   "source": [
    "\n",
    "\n",
    "import numpy as np # linear algebra\n",
    "import pandas as pd # data processing, CSV file I/O (e.g. pd.read_csv)\n",
    "import matplotlib.pyplot as plt # data visualization\n",
    "import seaborn as sns # statistical data visualization\n",
    "\n",
    "new_england = pd.read_csv(\"new_england.csv\")\n",
    "new_england = new_england.drop(columns = ['Region','TEANEC','TEAOPP','WEIGHT_L'])\n",
    "\n",
    "new_england['TEA'].value_counts()\n",
    "\n",
    "#Declare feature vector and target variable\n",
    "y=new_england['TEA']\n",
    "\n",
    "new_cols = ['yrsurv','WEIGHT_A','GEMHHINC','knowent','opport','suskill','fearfail','futsup','discent','busang','gender','age9c','hhsize','ushhinc','usreduc','ESTBBUSO','IPACTLD_ALL','race']\n",
    "X_columns = ['yrsurv','GEMHHINC','knowent','opport','suskill','fearfail','futsup','discent','busang','gender','age9c','hhsize','ushhinc','usreduc','ESTBBUSO','IPACTLD_ALL','race']\n",
    "x=new_england[new_cols]\n",
    "\n",
    "from sklearn.model_selection import train_test_split\n",
    "X_train, X_test, y_train, y_test = train_test_split(x, y, test_size = 0.3, random_state = 0)\n",
    "W_train = X_train['WEIGHT_A']\n",
    "W_test = X_test['WEIGHT_A']\n",
    "X_train.drop(columns=['WEIGHT_A'])\n",
    "X_test.drop(columns=['WEIGHT_A'])\n",
    "\n",
    "\n",
    "# build the lightgbm model\n",
    "!pip install lightgbm\n",
    "import lightgbm as lgb\n",
    "\n",
    "clf = lgb.LGBMClassifier()\n",
    "clf.fit(X_train, y_train,sample_weight = W_train)\n",
    "\n",
    "\n",
    "\n",
    "# predict the results\n",
    "y_pred=clf.predict(X_test)\n",
    "\n",
    "# view accuracy\n",
    "from sklearn.metrics import accuracy_score\n",
    "accuracy=accuracy_score(y_pred, y_test)\n",
    "print('LightGBM Model accuracy score: {0:0.4f}'.format(accuracy_score(y_test, y_pred)))\n",
    "\n",
    "\n",
    "y_pred_train = clf.predict(X_train)\n",
    "print('Training-set accuracy score: {0:0.4f}'. format(accuracy_score(y_train, y_pred_train)))\n",
    "# print the scores on training and test set\n",
    "\n",
    "print('Training set score: {:.4f}'.format(clf.score(X_train, y_train)))\n",
    "\n",
    "print('Test set score: {:.4f}'.format(clf.score(X_test, y_test)))\n",
    "from sklearn.metrics import confusion_matrix\n",
    "cm = confusion_matrix(y_test, y_pred)\n",
    "print('Confusion matrix\\n\\n', cm)\n",
    "print('\\nTrue Positives(TP) = ', cm[0,0])\n",
    "print('\\nTrue Negatives(TN) = ', cm[1,1])\n",
    "print('\\nFalse Positives(FP) = ', cm[0,1])\n",
    "print('\\nFalse Negatives(FN) = ', cm[1,0])\n",
    "# visualize confusion matrix with seaborn heatmap\n",
    "\n",
    "cm_matrix = pd.DataFrame(data=cm, columns=['Actual Positive:1', 'Actual Negative:0'], \n",
    "                                 index=['Predict Positive:1', 'Predict Negative:0'])\n",
    "                                 \n",
    "sns.heatmap(cm_matrix, annot=True, fmt='d', cmap='YlGnBu')\n",
    "from sklearn.metrics import classification_report\n",
    "print(classification_report(y_test, y_pred))\n",
    "feature_imp = pd.DataFrame(sorted(zip(clf.feature_importances_,new_england.columns)), columns=['Value','Feature'])\n",
    "plt.figure(figsize=(20, 10))\n",
    "sns.barplot(x=\"Value\", y=\"Feature\", data=feature_imp.sort_values(by=\"Value\", ascending=False))\n",
    "plt.title('LightGBM Features (avg over folds)')\n",
    "plt.tight_layout()\n",
    "plt.show()\n",
    "plt.savefig('lgbm_importances-01.png')\n"
   ]
  },
  {
   "cell_type": "code",
   "execution_count": null,
   "metadata": {},
   "outputs": [
    {
     "name": "stdout",
     "output_type": "stream",
     "text": [
      "Requirement already satisfied: lightgbm in c:\\users\\ywang31\\anaconda3\\lib\\site-packages (3.3.1)\n",
      "Requirement already satisfied: scikit-learn!=0.22.0 in c:\\users\\ywang31\\anaconda3\\lib\\site-packages (from lightgbm) (0.24.1)\n",
      "Requirement already satisfied: wheel in c:\\users\\ywang31\\anaconda3\\lib\\site-packages (from lightgbm) (0.36.2)\n",
      "Requirement already satisfied: numpy in c:\\users\\ywang31\\anaconda3\\lib\\site-packages (from lightgbm) (1.20.1)\n",
      "Requirement already satisfied: scipy in c:\\users\\ywang31\\anaconda3\\lib\\site-packages (from lightgbm) (1.6.2)\n",
      "Requirement already satisfied: joblib>=0.11 in c:\\users\\ywang31\\anaconda3\\lib\\site-packages (from scikit-learn!=0.22.0->lightgbm) (1.0.1)\n",
      "Requirement already satisfied: threadpoolctl>=2.0.0 in c:\\users\\ywang31\\anaconda3\\lib\\site-packages (from scikit-learn!=0.22.0->lightgbm) (2.1.0)\n",
      "LightGBM Model accuracy score: 0.8776\n",
      "Training-set accuracy score: 0.9913\n",
      "Training set score: 0.9913\n",
      "Test set score: 0.8776\n",
      "Confusion matrix\n",
      "\n",
      " [[255  15]\n",
      " [ 21   3]]\n",
      "\n",
      "True Positives(TP) =  255\n",
      "\n",
      "True Negatives(TN) =  3\n",
      "\n",
      "False Positives(FP) =  15\n",
      "\n",
      "False Negatives(FN) =  21\n",
      "              precision    recall  f1-score   support\n",
      "\n",
      "           0       0.92      0.94      0.93       270\n",
      "           1       0.17      0.12      0.14        24\n",
      "\n",
      "    accuracy                           0.88       294\n",
      "   macro avg       0.55      0.53      0.54       294\n",
      "weighted avg       0.86      0.88      0.87       294\n",
      "\n"
     ]
    },
    {
     "data": {
      "image/png": "[encoded data removed]",
      "text/plain": [
       "<Figure size 432x288 with 2 Axes>"
      ]
     },
     "metadata": {
      "needs_background": "light"
     },
     "output_type": "display_data"
    },
    {
     "data": {
      "image/png": "[encoded data removed]",
      "text/plain": [
       "<Figure size 1440x720 with 1 Axes>"
      ]
     },
     "metadata": {
      "needs_background": "light"
     },
     "output_type": "display_data"
    },
    {
     "data": {
      "text/plain": [
       "<Figure size 432x288 with 0 Axes>"
      ]
     },
     "metadata": {},
     "output_type": "display_data"
    }
   ],
   "source": [
    "new_england_weightL = pd.read_csv(\"new_england.csv\")\n",
    "new_england_weightL = new_england_weightL.drop(columns = ['Region','TEANEC','TEAOPP','WEIGHT_A'])\n",
    "new_england_weightL['WEIGHT_L'] = new_england_weightL['WEIGHT_L'].fillna(0)\n",
    "new_england_weightL['TEA'].value_counts()\n",
    "\n",
    "#Declare feature vector and target variable\n",
    "y=new_england_weightL['TEA']\n",
    "\n",
    "new_cols = ['yrsurv','WEIGHT_L','GEMHHINC','knowent','opport','suskill','fearfail','futsup','discent','busang','gender','age9c','hhsize','ushhinc','usreduc','ESTBBUSO','IPACTLD_ALL','race']\n",
    "X_columns = ['yrsurv','GEMHHINC','knowent','opport','suskill','fearfail','futsup','discent','busang','gender','age9c','hhsize','ushhinc','usreduc','ESTBBUSO','IPACTLD_ALL','race']\n",
    "x=new_england_weightL[new_cols]\n",
    "\n",
    "from sklearn.model_selection import train_test_split\n",
    "X_train, X_test, y_train, y_test = train_test_split(x, y, test_size = 0.3, random_state = 0)\n",
    "W_train = X_train['WEIGHT_L']\n",
    "W_test = X_test['WEIGHT_L']\n",
    "X_train.drop(columns=['WEIGHT_L'])\n",
    "X_test.drop(columns=['WEIGHT_L'])\n",
    "\n",
    "\n",
    "# build the lightgbm model\n",
    "!pip install lightgbm\n",
    "import lightgbm as lgb\n",
    "\n",
    "clf = lgb.LGBMClassifier()\n",
    "clf.fit(X_train, y_train,sample_weight = W_train)\n",
    "\n",
    "\n",
    "\n",
    "# predict the results\n",
    "y_pred=clf.predict(X_test)\n",
    "\n",
    "# view accuracy\n",
    "from sklearn.metrics import accuracy_score\n",
    "accuracy=accuracy_score(y_pred, y_test)\n",
    "print('LightGBM Model accuracy score: {0:0.4f}'.format(accuracy_score(y_test, y_pred)))\n",
    "\n",
    "\n",
    "y_pred_train = clf.predict(X_train)\n",
    "print('Training-set accuracy score: {0:0.4f}'. format(accuracy_score(y_train, y_pred_train)))\n",
    "# print the scores on training and test set\n",
    "\n",
    "print('Training set score: {:.4f}'.format(clf.score(X_train, y_train)))\n",
    "\n",
    "print('Test set score: {:.4f}'.format(clf.score(X_test, y_test)))\n",
    "from sklearn.metrics import confusion_matrix\n",
    "cm = confusion_matrix(y_test, y_pred)\n",
    "print('Confusion matrix\\n\\n', cm)\n",
    "print('\\nTrue Positives(TP) = ', cm[0,0])\n",
    "print('\\nTrue Negatives(TN) = ', cm[1,1])\n",
    "print('\\nFalse Positives(FP) = ', cm[0,1])\n",
    "print('\\nFalse Negatives(FN) = ', cm[1,0])\n",
    "# visualize confusion matrix with seaborn heatmap\n",
    "\n",
    "cm_matrix = pd.DataFrame(data=cm, columns=['Actual Positive:1', 'Actual Negative:0'], \n",
    "                                 index=['Predict Positive:1', 'Predict Negative:0'])\n",
    "\n",
    "sns.heatmap(cm_matrix, annot=True, fmt='d', cmap='YlGnBu')\n",
    "\n",
    "from sklearn.metrics import classification_report\n",
    "print(classification_report(y_test, y_pred))\n",
    "\n",
    "\n",
    "feature_imp = pd.DataFrame(sorted(zip(clf.feature_importances_,new_england_weightL.columns)), columns=['Value','Feature'])\n",
    "\n",
    "plt.figure(figsize=(20, 10))\n",
    "sns.barplot(x=\"Value\", y=\"Feature\", data=feature_imp.sort_values(by=\"Value\", ascending=False))\n",
    "plt.title('LightGBM Features (avg over folds)')\n",
    "plt.tight_layout()\n",
    "plt.show()\n",
    "plt.savefig('lgbm_importances-01.png')\n"
   ]
  },
  {
   "cell_type": "code",
   "execution_count": 49,
   "metadata": {},
   "outputs": [
    {
     "name": "stdout",
     "output_type": "stream",
     "text": [
      "Requirement already satisfied: lightgbm in d:\\anaconda\\lib\\site-packages (3.3.1)\n",
      "Requirement already satisfied: numpy in d:\\anaconda\\lib\\site-packages (from lightgbm) (1.20.1)\n",
      "Requirement already satisfied: scipy in d:\\anaconda\\lib\\site-packages (from lightgbm) (1.6.2)\n",
      "Requirement already satisfied: wheel in d:\\anaconda\\lib\\site-packages (from lightgbm) (0.36.2)\n",
      "Requirement already satisfied: scikit-learn!=0.22.0 in d:\\anaconda\\lib\\site-packages (from lightgbm) (0.24.1)\n",
      "Requirement already satisfied: threadpoolctl>=2.0.0 in d:\\anaconda\\lib\\site-packages (from scikit-learn!=0.22.0->lightgbm) (2.1.0)\n",
      "Requirement already satisfied: joblib>=0.11 in d:\\anaconda\\lib\\site-packages (from scikit-learn!=0.22.0->lightgbm) (1.0.1)\n",
      "LightGBM Model accuracy score: 0.8880\n",
      "Training-set accuracy score: 0.9311\n",
      "Training set score: 0.9311\n",
      "Test set score: 0.8880\n",
      "Confusion matrix\n",
      "\n",
      " [[1322   44]\n",
      " [ 126   26]]\n",
      "\n",
      "True Positives(TP) =  1322\n",
      "\n",
      "True Negatives(TN) =  26\n",
      "\n",
      "False Positives(FP) =  44\n",
      "\n",
      "False Negatives(FN) =  126\n",
      "              precision    recall  f1-score   support\n",
      "\n",
      "           0       0.91      0.97      0.94      1366\n",
      "           1       0.37      0.17      0.23       152\n",
      "\n",
      "    accuracy                           0.89      1518\n",
      "   macro avg       0.64      0.57      0.59      1518\n",
      "weighted avg       0.86      0.89      0.87      1518\n",
      "\n"
     ]
    },
    {
     "data": {
      "image/png": "[encoded data removed]",
      "text/plain": [
       "<Figure size 432x288 with 2 Axes>"
      ]
     },
     "metadata": {
      "needs_background": "light"
     },
     "output_type": "display_data"
    },
    {
     "data": {
      "image/png": "[encoded data removed]",
      "text/plain": [
       "<Figure size 1440x720 with 1 Axes>"
      ]
     },
     "metadata": {
      "needs_background": "light"
     },
     "output_type": "display_data"
    },
    {
     "name": "stdout",
     "output_type": "stream",
     "text": [
      "[ 114  112  310   64  276  179 1945]\n",
      "          col_name\n",
      "WEIGHT_A      1945\n",
      "age9c          310\n",
      "opport         276\n",
      "fearfail       179\n",
      "knowent        114\n",
      "suskill        112\n",
      "ESTBBUSO        64\n"
     ]
    },
    {
     "data": {
      "text/plain": [
       "<Figure size 432x288 with 0 Axes>"
      ]
     },
     "metadata": {},
     "output_type": "display_data"
    }
   ],
   "source": [
    "#Great Lakes with Weight A\n",
    "great_lakes = pd.read_csv(\"great_lakes.csv\")\n",
    "cols = ['TEA','knowent', 'suskill','age9c', 'ESTBBUSO','opport','fearfail','WEIGHT_A']\n",
    "great_lakes = great_lakes[cols]\n",
    "\n",
    "great_lakes['TEA'].value_counts()\n",
    "\n",
    "\n",
    "#Declare feature vector and target variable\n",
    "y=great_lakes['TEA']\n",
    "\n",
    "new_cols = ['knowent', 'suskill','age9c', 'ESTBBUSO','opport','fearfail','WEIGHT_A']\n",
    "x=great_lakes[new_cols]\n",
    "\n",
    "feature_cols = ['knowent', 'suskill','age9c', 'ESTBBUSO','opport','fearfail']\n",
    "\n",
    "\n",
    "\n",
    "from sklearn.model_selection import train_test_split\n",
    "X_train, X_test, y_train, y_test = train_test_split(x, y, test_size = 0.3, random_state = 0)\n",
    "W_train = X_train['WEIGHT_A']\n",
    "W_test = X_test['WEIGHT_A']\n",
    "X_train.drop(columns=['WEIGHT_A'])\n",
    "X_test.drop(columns=['WEIGHT_A'])\n",
    "\n",
    "\n",
    "# build the lightgbm model\n",
    "!pip install lightgbm\n",
    "import lightgbm as lgb\n",
    "\n",
    "clf = lgb.LGBMClassifier()\n",
    "clf.fit(X_train, y_train,sample_weight = W_train)\n",
    "\n",
    "\n",
    "\n",
    "# predict the results\n",
    "y_pred=clf.predict(X_test)\n",
    "\n",
    "# view accuracy\n",
    "from sklearn.metrics import accuracy_score\n",
    "accuracy=accuracy_score(y_pred, y_test)\n",
    "print('LightGBM Model accuracy score: {0:0.4f}'.format(accuracy_score(y_test, y_pred)))\n",
    "\n",
    "\n",
    "y_pred_train = clf.predict(X_train)\n",
    "print('Training-set accuracy score: {0:0.4f}'. format(accuracy_score(y_train, y_pred_train)))\n",
    "# print the scores on training and test set\n",
    "\n",
    "print('Training set score: {:.4f}'.format(clf.score(X_train, y_train)))\n",
    "\n",
    "print('Test set score: {:.4f}'.format(clf.score(X_test, y_test)))\n",
    "from sklearn.metrics import confusion_matrix\n",
    "cm = confusion_matrix(y_test, y_pred)\n",
    "print('Confusion matrix\\n\\n', cm)\n",
    "print('\\nTrue Positives(TP) = ', cm[0,0])\n",
    "print('\\nTrue Negatives(TN) = ', cm[1,1])\n",
    "print('\\nFalse Positives(FP) = ', cm[0,1])\n",
    "print('\\nFalse Negatives(FN) = ', cm[1,0])\n",
    "# visualize confusion matrix with seaborn heatmap\n",
    "\n",
    "cm_matrix = pd.DataFrame(data=cm, columns=['Actual Positive:1', 'Actual Negative:0'], \n",
    "                                 index=['Predict Positive:1', 'Predict Negative:0'])\n",
    "\n",
    "sns.heatmap(cm_matrix, annot=True, fmt='d', cmap='YlGnBu')\n",
    "\n",
    "from sklearn.metrics import classification_report\n",
    "print(classification_report(y_test, y_pred))\n",
    "\n",
    "\n",
    "feature_imp = pd.DataFrame(sorted(zip(clf.feature_importances_,great_lakes[feature_cols])), columns=['Value','Feature'])\n",
    "\n",
    "plt.figure(figsize=(20, 10))\n",
    "sns.barplot(x=\"Value\", y=\"Feature\", data=feature_imp.sort_values(by=\"Value\", ascending=False))\n",
    "plt.title('LightGBM Features for Great Lake (avg over folds)')\n",
    "plt.tight_layout()\n",
    "plt.show()\n",
    "plt.savefig('lgbm_importances-01.png')\n",
    "\n",
    "print(clf.feature_importances_)\n",
    "feature_imporant = pd.DataFrame({'col_name': clf.feature_importances_}, index=x.columns).sort_values(by='col_name', ascending=False)\n",
    "print(feature_imporant)"
   ]
  },
  {
   "cell_type": "code",
   "execution_count": null,
   "metadata": {},
   "outputs": [
    {
     "name": "stdout",
     "output_type": "stream",
     "text": [
      "Requirement already satisfied: lightgbm in d:\\anaconda\\lib\\site-packages (3.3.1)\n",
      "Requirement already satisfied: numpy in d:\\anaconda\\lib\\site-packages (from lightgbm) (1.20.1)\n",
      "Requirement already satisfied: wheel in d:\\anaconda\\lib\\site-packages (from lightgbm) (0.36.2)\n",
      "Requirement already satisfied: scipy in d:\\anaconda\\lib\\site-packages (from lightgbm) (1.6.2)\n",
      "Requirement already satisfied: scikit-learn!=0.22.0 in d:\\anaconda\\lib\\site-packages (from lightgbm) (0.24.1)\n",
      "Requirement already satisfied: joblib>=0.11 in d:\\anaconda\\lib\\site-packages (from scikit-learn!=0.22.0->lightgbm) (1.0.1)\n",
      "Requirement already satisfied: threadpoolctl>=2.0.0 in d:\\anaconda\\lib\\site-packages (from scikit-learn!=0.22.0->lightgbm) (2.1.0)\n",
      "LightGBM Model accuracy score: 0.8827\n",
      "Training-set accuracy score: 0.9319\n",
      "Training set score: 0.9319\n",
      "Test set score: 0.8827\n",
      "Confusion matrix\n",
      "\n",
      " [[1308   58]\n",
      " [ 120   32]]\n",
      "\n",
      "True Positives(TP) =  1308\n",
      "\n",
      "True Negatives(TN) =  32\n",
      "\n",
      "False Positives(FP) =  58\n",
      "\n",
      "False Negatives(FN) =  120\n",
      "              precision    recall  f1-score   support\n",
      "\n",
      "           0       0.92      0.96      0.94      1366\n",
      "           1       0.36      0.21      0.26       152\n",
      "\n",
      "    accuracy                           0.88      1518\n",
      "   macro avg       0.64      0.58      0.60      1518\n",
      "weighted avg       0.86      0.88      0.87      1518\n",
      "\n"
     ]
    },
    {
     "data": {
      "image/png": "[encoded data removed]",
      "text/plain": [
       "<Figure size 432x288 with 2 Axes>"
      ]
     },
     "metadata": {
      "needs_background": "light"
     },
     "output_type": "display_data"
    },
    {
     "data": {
      "image/png": "[encoded data removed]",
      "text/plain": [
       "<Figure size 1440x720 with 1 Axes>"
      ]
     },
     "metadata": {
      "needs_background": "light"
     },
     "output_type": "display_data"
    },
    {
     "data": {
      "text/plain": [
       "<Figure size 432x288 with 0 Axes>"
      ]
     },
     "metadata": {},
     "output_type": "display_data"
    }
   ],
   "source": [
    "#Great Lake with weight L\n",
    "great_lakes_weightL = pd.read_csv(\"great_lakes.csv\")\n",
    "cols = ['TEA','knowent', 'suskill','age9c', 'ESTBBUSO','opport','fearfail','WEIGHT_L']\n",
    "great_lakes_weightL = great_lakes_weightL[cols]\n",
    "great_lakes_weightL['WEIGHT_L'] = great_lakes_weightL['WEIGHT_L'].fillna(0)\n",
    "\n",
    "\n",
    "great_lakes_weightL['TEA'].value_counts()\n",
    "\n",
    "\n",
    "#Declare feature vector and target variable\n",
    "y=great_lakes_weightL['TEA']\n",
    "\n",
    "new_cols = ['knowent', 'suskill','age9c', 'ESTBBUSO','opport','fearfail','WEIGHT_L']\n",
    "feature_cols =  ['knowent', 'suskill','age9c', 'ESTBBUSO','opport','fearfail']\n",
    "x=great_lakes_weightL[new_cols]\n",
    "\n",
    "from sklearn.model_selection import train_test_split\n",
    "X_train, X_test, y_train, y_test = train_test_split(x, y, test_size = 0.3, random_state = 0)\n",
    "W_train = X_train['WEIGHT_L']\n",
    "W_test = X_test['WEIGHT_L']\n",
    "X_train.drop(columns=['WEIGHT_L'])\n",
    "X_test.drop(columns=['WEIGHT_L'])\n",
    "\n",
    "\n",
    "# build the lightgbm model\n",
    "!pip install lightgbm\n",
    "import lightgbm as lgb\n",
    "\n",
    "clf = lgb.LGBMClassifier()\n",
    "clf.fit(X_train, y_train,sample_weight = W_train)\n",
    "\n",
    "\n",
    "\n",
    "# predict the results\n",
    "y_pred=clf.predict(X_test)\n",
    "\n",
    "# view accuracy\n",
    "from sklearn.metrics import accuracy_score\n",
    "accuracy=accuracy_score(y_pred, y_test)\n",
    "print('LightGBM Model accuracy score: {0:0.4f}'.format(accuracy_score(y_test, y_pred)))\n",
    "\n",
    "\n",
    "y_pred_train = clf.predict(X_train)\n",
    "print('Training-set accuracy score: {0:0.4f}'. format(accuracy_score(y_train, y_pred_train)))\n",
    "# print the scores on training and test set\n",
    "\n",
    "print('Training set score: {:.4f}'.format(clf.score(X_train, y_train)))\n",
    "\n",
    "print('Test set score: {:.4f}'.format(clf.score(X_test, y_test)))\n",
    "from sklearn.metrics import confusion_matrix\n",
    "cm = confusion_matrix(y_test, y_pred)\n",
    "print('Confusion matrix\\n\\n', cm)\n",
    "print('\\nTrue Positives(TP) = ', cm[0,0])\n",
    "print('\\nTrue Negatives(TN) = ', cm[1,1])\n",
    "print('\\nFalse Positives(FP) = ', cm[0,1])\n",
    "print('\\nFalse Negatives(FN) = ', cm[1,0])\n",
    "# visualize confusion matrix with seaborn heatmap\n",
    "\n",
    "cm_matrix = pd.DataFrame(data=cm, columns=['Actual Positive:1', 'Actual Negative:0'], \n",
    "                                 index=['Predict Positive:1', 'Predict Negative:0'])\n",
    "\n",
    "sns.heatmap(cm_matrix, annot=True, fmt='d', cmap='YlGnBu')\n",
    "\n",
    "from sklearn.metrics import classification_report\n",
    "print(classification_report(y_test, y_pred))\n",
    "\n",
    "\n",
    "feature_imp = pd.DataFrame(sorted(zip(clf.feature_importances_,great_lakes_weightL[feature_cols])), columns=['Value','Feature'])\n",
    "\n",
    "plt.figure(figsize=(20, 10))\n",
    "sns.barplot(x=\"Value\", y=\"Feature\", data=feature_imp.sort_values(by=\"Value\", ascending=False))\n",
    "plt.title('LightGBM Features for Great Lake (age between 18-64)(avg over folds)')\n",
    "plt.tight_layout()\n",
    "plt.show()\n",
    "plt.savefig('lgbm_importances-01.png')\n",
    "\n"
   ]
  },
  {
   "cell_type": "code",
   "execution_count": null,
   "metadata": {},
   "outputs": [
    {
     "ename": "SyntaxError",
     "evalue": "invalid syntax (<ipython-input-32-fa23ce232ba8>, line 23)",
     "output_type": "error",
     "traceback": [
      "\u001b[1;36m  File \u001b[1;32m\"<ipython-input-32-fa23ce232ba8>\"\u001b[1;36m, line \u001b[1;32m23\u001b[0m\n\u001b[1;33m    print('X train:'  X_train)\u001b[0m\n\u001b[1;37m                      ^\u001b[0m\n\u001b[1;31mSyntaxError\u001b[0m\u001b[1;31m:\u001b[0m invalid syntax\n"
     ]
    }
   ],
   "source": [
    "#Mid Atlantic with Weight A\n",
    "\n",
    "mid_atlantic = pd.read_csv(\"mid_atlantic.csv\")\n",
    "cols = ['TEA','futsup', 'knowent','WEIGHT_A']\n",
    "\n",
    "mid_atlantic = mid_atlantic[cols]\n",
    "mid_atlantic['TEA'].value_counts()\n",
    "\n",
    "\n",
    "#Declare feature vector and target variable\n",
    "y=mid_atlantic['TEA']\n",
    "\n",
    "new_cols = ['futsup', 'knowent','WEIGHT_A']\n",
    "feature_cols = ['futsup','knowent']\n",
    "x=mid_atlantic[new_cols]\n",
    "\n",
    "from sklearn.model_selection import train_test_split\n",
    "X_train, X_test, y_train, y_test = train_test_split(x, y, test_size = 0.3, random_state = 0)\n",
    "W_train = X_train['WEIGHT_A']\n",
    "W_test = X_test['WEIGHT_A']\n",
    "X_train.drop(columns=['WEIGHT_A'])\n",
    "X_test.drop(columns=['WEIGHT_A'])\n",
    "print('X train:'  X_train)\n",
    "\n",
    "# build the lightgbm model\n",
    "!pip install lightgbm\n",
    "import lightgbm as lgb\n",
    "\n",
    "clf = lgb.LGBMClassifier()\n",
    "clf.fit(X_train, y_train,sample_weight = W_train)\n",
    "\n",
    "\n",
    "\n",
    "# predict the results\n",
    "y_pred=clf.predict(X_test)\n",
    "\n",
    "# view accuracy\n",
    "from sklearn.metrics import accuracy_score\n",
    "accuracy=accuracy_score(y_pred, y_test)\n",
    "print('LightGBM Model accuracy score: {0:0.4f}'.format(accuracy_score(y_test, y_pred)))\n",
    "\n",
    "\n",
    "y_pred_train = clf.predict(X_train)\n",
    "print('Training-set accuracy score: {0:0.4f}'. format(accuracy_score(y_train, y_pred_train)))\n",
    "# print the scores on training and test set\n",
    "\n",
    "print('Training set score: {:.4f}'.format(clf.score(X_train, y_train)))\n",
    "\n",
    "print('Test set score: {:.4f}'.format(clf.score(X_test, y_test)))\n",
    "from sklearn.metrics import confusion_matrix\n",
    "cm = confusion_matrix(y_test, y_pred)\n",
    "print('Confusion matrix\\n\\n', cm)\n",
    "print('\\nTrue Positives(TP) = ', cm[0,0])\n",
    "print('\\nTrue Negatives(TN) = ', cm[1,1])\n",
    "print('\\nFalse Positives(FP) = ', cm[0,1])\n",
    "print('\\nFalse Negatives(FN) = ', cm[1,0])\n",
    "# visualize confusion matrix with seaborn heatmap\n",
    "\n",
    "cm_matrix = pd.DataFrame(data=cm, columns=['Actual Positive:1', 'Actual Negative:0'], \n",
    "                                 index=['Predict Positive:1', 'Predict Negative:0'])\n",
    "\n",
    "sns.heatmap(cm_matrix, annot=True, fmt='d', cmap='YlGnBu')\n",
    "\n",
    "from sklearn.metrics import classification_report\n",
    "print(classification_report(y_test, y_pred))\n",
    "\n",
    "\n",
    "feature_imp = pd.DataFrame(sorted(zip(clf.feature_importances_,X_train.columns)), columns=['Value','Feature'])\n",
    "\n",
    "plt.figure(figsize=(20, 10))\n",
    "sns.barplot(x=\"Value\", y=\"Feature\", data=feature_imp.sort_values(by=\"Value\", ascending=False))\n",
    "plt.title('LightGBM Features (avg over folds)')\n",
    "plt.tight_layout()\n",
    "plt.show()\n",
    "plt.savefig('lgbm_importances-01.png')\n",
    "\n",
    "\n",
    "print(clf.feature_importances_)\n",
    "\n"
   ]
  },
  {
   "cell_type": "code",
   "execution_count": null,
   "metadata": {},
   "outputs": [
    {
     "name": "stdout",
     "output_type": "stream",
     "text": [
      "Requirement already satisfied: lightgbm in d:\\anaconda\\lib\\site-packages (3.3.1)\n",
      "Requirement already satisfied: scikit-learn!=0.22.0 in d:\\anaconda\\lib\\site-packages (from lightgbm) (0.24.1)\n",
      "Requirement already satisfied: wheel in d:\\anaconda\\lib\\site-packages (from lightgbm) (0.36.2)\n",
      "Requirement already satisfied: scipy in d:\\anaconda\\lib\\site-packages (from lightgbm) (1.6.2)\n",
      "Requirement already satisfied: numpy in d:\\anaconda\\lib\\site-packages (from lightgbm) (1.20.1)\n",
      "Requirement already satisfied: threadpoolctl>=2.0.0 in d:\\anaconda\\lib\\site-packages (from scikit-learn!=0.22.0->lightgbm) (2.1.0)\n",
      "Requirement already satisfied: joblib>=0.11 in d:\\anaconda\\lib\\site-packages (from scikit-learn!=0.22.0->lightgbm) (1.0.1)\n",
      "LightGBM Model accuracy score: 0.8666\n",
      "Training-set accuracy score: 0.9131\n",
      "Training set score: 0.9131\n",
      "Test set score: 0.8666\n",
      "Confusion matrix\n",
      "\n",
      " [[516  15]\n",
      " [ 66  10]]\n",
      "\n",
      "True Positives(TP) =  516\n",
      "\n",
      "True Negatives(TN) =  10\n",
      "\n",
      "False Positives(FP) =  15\n",
      "\n",
      "False Negatives(FN) =  66\n",
      "              precision    recall  f1-score   support\n",
      "\n",
      "           0       0.89      0.97      0.93       531\n",
      "           1       0.40      0.13      0.20        76\n",
      "\n",
      "    accuracy                           0.87       607\n",
      "   macro avg       0.64      0.55      0.56       607\n",
      "weighted avg       0.83      0.87      0.84       607\n",
      "\n"
     ]
    },
    {
     "data": {
      "image/png": "[encoded data removed]",
      "text/plain": [
       "<Figure size 432x288 with 2 Axes>"
      ]
     },
     "metadata": {
      "needs_background": "light"
     },
     "output_type": "display_data"
    },
    {
     "data": {
      "image/png": "[encoded data removed]",
      "text/plain": [
       "<Figure size 1440x720 with 1 Axes>"
      ]
     },
     "metadata": {
      "needs_background": "light"
     },
     "output_type": "display_data"
    },
    {
     "data": {
      "text/plain": [
       "<Figure size 432x288 with 0 Axes>"
      ]
     },
     "metadata": {},
     "output_type": "display_data"
    }
   ],
   "source": [
    "#Great Lake with weight L\n",
    "great_lakes_weightL = pd.read_csv(\"great_lakes.csv\")\n",
    "cols = ['TEA','knowent', 'suskill','age9c', 'ESTBBUSO','opport','fearfail','WEIGHT_L']\n",
    "great_lakes_weightL = great_lakes_weightL[cols]\n",
    "great_lakes_weightL['WEIGHT_L'] = great_lakes_weightL['WEIGHT_L'].fillna(0)\n",
    "\n",
    "\n",
    "great_lakes_weightL['TEA'].value_counts()\n",
    "\n",
    "\n",
    "#Declare feature vector and target variable\n",
    "y=great_lakes_weightL['TEA']\n",
    "\n",
    "new_cols = ['knowent', 'suskill','age9c', 'ESTBBUSO','opport','fearfail','WEIGHT_L']\n",
    "x=great_lakes_weightL[new_cols]\n",
    "\n",
    "from sklearn.model_selection import train_test_split\n",
    "X_train, X_test, y_train, y_test = train_test_split(x, y, test_size = 0.3, random_state = 0)\n",
    "W_train = X_train['WEIGHT_L']\n",
    "W_test = X_test['WEIGHT_L']\n",
    "X_train.drop(columns=['WEIGHT_L'])\n",
    "X_test.drop(columns=['WEIGHT_L'])\n",
    "\n",
    "\n",
    "# build the lightgbm model\n",
    "!pip install lightgbm\n",
    "import lightgbm as lgb\n",
    "\n",
    "clf = lgb.LGBMClassifier()\n",
    "clf.fit(X_train, y_train,sample_weight = W_train)\n",
    "\n",
    "\n",
    "\n",
    "# predict the results\n",
    "y_pred=clf.predict(X_test)\n",
    "\n",
    "# view accuracy\n",
    "from sklearn.metrics import accuracy_score\n",
    "accuracy=accuracy_score(y_pred, y_test)\n",
    "print('LightGBM Model accuracy score: {0:0.4f}'.format(accuracy_score(y_test, y_pred)))\n",
    "\n",
    "\n",
    "y_pred_train = clf.predict(X_train)\n",
    "print('Training-set accuracy score: {0:0.4f}'. format(accuracy_score(y_train, y_pred_train)))\n",
    "# print the scores on training and test set\n",
    "\n",
    "print('Training set score: {:.4f}'.format(clf.score(X_train, y_train)))\n",
    "\n",
    "print('Test set score: {:.4f}'.format(clf.score(X_test, y_test)))\n",
    "from sklearn.metrics import confusion_matrix\n",
    "cm = confusion_matrix(y_test, y_pred)\n",
    "print('Confusion matrix\\n\\n', cm)\n",
    "print('\\nTrue Positives(TP) = ', cm[0,0])\n",
    "print('\\nTrue Negatives(TN) = ', cm[1,1])\n",
    "print('\\nFalse Positives(FP) = ', cm[0,1])\n",
    "print('\\nFalse Negatives(FN) = ', cm[1,0])\n",
    "# visualize confusion matrix with seaborn heatmap\n",
    "\n",
    "cm_matrix = pd.DataFrame(data=cm, columns=['Actual Positive:1', 'Actual Negative:0'], \n",
    "                                 index=['Predict Positive:1', 'Predict Negative:0'])\n",
    "\n",
    "sns.heatmap(cm_matrix, annot=True, fmt='d', cmap='YlGnBu')\n",
    "\n",
    "from sklearn.metrics import classification_report\n",
    "print(classification_report(y_test, y_pred))\n",
    "\n",
    "\n",
    "feature_imp = pd.DataFrame(sorted(zip(clf.feature_importances_,great_lakes_weightL.columns)), columns=['Value','Feature'])\n",
    "\n",
    "plt.figure(figsize=(20, 10))\n",
    "sns.barplot(x=\"Value\", y=\"Feature\", data=feature_imp.sort_values(by=\"Value\", ascending=False))\n",
    "plt.title('LightGBM Features (avg over folds)')\n",
    "plt.tight_layout()\n",
    "plt.show()\n",
    "plt.savefig('lgbm_importances-01.png')\n",
    "\n"
   ]
  },
  {
   "cell_type": "code",
   "execution_count": null,
   "metadata": {},
   "outputs": [
    {
     "name": "stdout",
     "output_type": "stream",
     "text": [
      "Requirement already satisfied: lightgbm in d:\\anaconda\\lib\\site-packages (3.3.1)\n",
      "Requirement already satisfied: scipy in d:\\anaconda\\lib\\site-packages (from lightgbm) (1.6.2)\n",
      "Requirement already satisfied: wheel in d:\\anaconda\\lib\\site-packages (from lightgbm) (0.36.2)\n",
      "Requirement already satisfied: numpy in d:\\anaconda\\lib\\site-packages (from lightgbm) (1.20.1)\n",
      "Requirement already satisfied: scikit-learn!=0.22.0 in d:\\anaconda\\lib\\site-packages (from lightgbm) (0.24.1)\n",
      "Requirement already satisfied: threadpoolctl>=2.0.0 in d:\\anaconda\\lib\\site-packages (from scikit-learn!=0.22.0->lightgbm) (2.1.0)\n",
      "Requirement already satisfied: joblib>=0.11 in d:\\anaconda\\lib\\site-packages (from scikit-learn!=0.22.0->lightgbm) (1.0.1)\n",
      "LightGBM Model accuracy score: 0.8853\n",
      "Training-set accuracy score: 0.9276\n",
      "Training set score: 0.9276\n",
      "Test set score: 0.8853\n",
      "Confusion matrix\n",
      "\n",
      " [[246   7]\n",
      " [ 25   1]]\n",
      "\n",
      "True Positives(TP) =  246\n",
      "\n",
      "True Negatives(TN) =  1\n",
      "\n",
      "False Positives(FP) =  7\n",
      "\n",
      "False Negatives(FN) =  25\n",
      "              precision    recall  f1-score   support\n",
      "\n",
      "           0       0.91      0.97      0.94       253\n",
      "           1       0.12      0.04      0.06        26\n",
      "\n",
      "    accuracy                           0.89       279\n",
      "   macro avg       0.52      0.51      0.50       279\n",
      "weighted avg       0.83      0.89      0.86       279\n",
      "\n"
     ]
    },
    {
     "data": {
      "image/png": "[encoded data removed]",
      "text/plain": [
       "<Figure size 432x288 with 2 Axes>"
      ]
     },
     "metadata": {
      "needs_background": "light"
     },
     "output_type": "display_data"
    },
    {
     "data": {
      "image/png": "[encoded data removed]",
      "text/plain": [
       "<Figure size 1440x720 with 1 Axes>"
      ]
     },
     "metadata": {
      "needs_background": "light"
     },
     "output_type": "display_data"
    },
    {
     "data": {
      "text/plain": [
       "<Figure size 432x288 with 0 Axes>"
      ]
     },
     "metadata": {},
     "output_type": "display_data"
    }
   ],
   "source": [
    "#Mid west with Weight A\n",
    "\n",
    "mid_west = pd.read_csv(\"mid_west.csv\")\n",
    "cols = ['TEA','futsup','WEIGHT_A']\n",
    "\n",
    "mid_west = mid_west[cols]\n",
    "mid_west['TEA'].value_counts()\n",
    "\n",
    "\n",
    "#Declare feature vector and target variable\n",
    "y=mid_west['TEA']\n",
    "\n",
    "new_cols = ['futsup','WEIGHT_A']\n",
    "x=mid_west[new_cols]\n",
    "\n",
    "from sklearn.model_selection import train_test_split\n",
    "X_train, X_test, y_train, y_test = train_test_split(x, y, test_size = 0.3, random_state = 0)\n",
    "W_train = X_train['WEIGHT_A']\n",
    "W_test = X_test['WEIGHT_A']\n",
    "X_train.drop(columns=['WEIGHT_A'])\n",
    "X_test.drop(columns=['WEIGHT_A'])\n",
    "\n",
    "\n",
    "# build the lightgbm model\n",
    "!pip install lightgbm\n",
    "import lightgbm as lgb\n",
    "\n",
    "clf = lgb.LGBMClassifier()\n",
    "clf.fit(X_train, y_train,sample_weight = W_train)\n",
    "\n",
    "\n",
    "\n",
    "# predict the results\n",
    "y_pred=clf.predict(X_test)\n",
    "\n",
    "# view accuracy\n",
    "from sklearn.metrics import accuracy_score\n",
    "accuracy=accuracy_score(y_pred, y_test)\n",
    "print('LightGBM Model accuracy score: {0:0.4f}'.format(accuracy_score(y_test, y_pred)))\n",
    "\n",
    "\n",
    "y_pred_train = clf.predict(X_train)\n",
    "print('Training-set accuracy score: {0:0.4f}'. format(accuracy_score(y_train, y_pred_train)))\n",
    "# print the scores on training and test set\n",
    "\n",
    "print('Training set score: {:.4f}'.format(clf.score(X_train, y_train)))\n",
    "\n",
    "print('Test set score: {:.4f}'.format(clf.score(X_test, y_test)))\n",
    "from sklearn.metrics import confusion_matrix\n",
    "cm = confusion_matrix(y_test, y_pred)\n",
    "print('Confusion matrix\\n\\n', cm)\n",
    "print('\\nTrue Positives(TP) = ', cm[0,0])\n",
    "print('\\nTrue Negatives(TN) = ', cm[1,1])\n",
    "print('\\nFalse Positives(FP) = ', cm[0,1])\n",
    "print('\\nFalse Negatives(FN) = ', cm[1,0])\n",
    "# visualize confusion matrix with seaborn heatmap\n",
    "\n",
    "cm_matrix = pd.DataFrame(data=cm, columns=['Actual Positive:1', 'Actual Negative:0'], \n",
    "                                 index=['Predict Positive:1', 'Predict Negative:0'])\n",
    "\n",
    "sns.heatmap(cm_matrix, annot=True, fmt='d', cmap='YlGnBu')\n",
    "\n",
    "from sklearn.metrics import classification_report\n",
    "print(classification_report(y_test, y_pred))\n",
    "\n",
    "\n",
    "feature_imp = pd.DataFrame(sorted(zip(clf.feature_importances_,mid_west.columns)), columns=['Value','Feature'])\n",
    "\n",
    "plt.figure(figsize=(20, 10))\n",
    "sns.barplot(x=\"Value\", y=\"Feature\", data=feature_imp.sort_values(by=\"Value\", ascending=False))\n",
    "plt.title('LightGBM Features for Midwest(avg over folds)')\n",
    "plt.tight_layout()\n",
    "plt.show()\n",
    "plt.savefig('lgbm_importances-01.png')\n",
    "\n",
    "\n"
   ]
  },
  {
   "cell_type": "code",
   "execution_count": null,
   "metadata": {},
   "outputs": [
    {
     "name": "stdout",
     "output_type": "stream",
     "text": [
      "Requirement already satisfied: lightgbm in d:\\anaconda\\lib\\site-packages (3.3.1)\n",
      "Requirement already satisfied: scikit-learn!=0.22.0 in d:\\anaconda\\lib\\site-packages (from lightgbm) (0.24.1)\n",
      "Requirement already satisfied: wheel in d:\\anaconda\\lib\\site-packages (from lightgbm) (0.36.2)\n",
      "Requirement already satisfied: numpy in d:\\anaconda\\lib\\site-packages (from lightgbm) (1.20.1)\n",
      "Requirement already satisfied: scipy in d:\\anaconda\\lib\\site-packages (from lightgbm) (1.6.2)\n",
      "Requirement already satisfied: joblib>=0.11 in d:\\anaconda\\lib\\site-packages (from scikit-learn!=0.22.0->lightgbm) (1.0.1)\n",
      "Requirement already satisfied: threadpoolctl>=2.0.0 in d:\\anaconda\\lib\\site-packages (from scikit-learn!=0.22.0->lightgbm) (2.1.0)\n",
      "LightGBM Model accuracy score: 0.8925\n",
      "Training-set accuracy score: 0.9291\n",
      "Training set score: 0.9291\n",
      "Test set score: 0.8925\n",
      "Confusion matrix\n",
      "\n",
      " [[245   8]\n",
      " [ 22   4]]\n",
      "\n",
      "True Positives(TP) =  245\n",
      "\n",
      "True Negatives(TN) =  4\n",
      "\n",
      "False Positives(FP) =  8\n",
      "\n",
      "False Negatives(FN) =  22\n",
      "              precision    recall  f1-score   support\n",
      "\n",
      "           0       0.92      0.97      0.94       253\n",
      "           1       0.33      0.15      0.21        26\n",
      "\n",
      "    accuracy                           0.89       279\n",
      "   macro avg       0.63      0.56      0.58       279\n",
      "weighted avg       0.86      0.89      0.87       279\n",
      "\n"
     ]
    },
    {
     "data": {
      "image/png": "[encoded data removed]",
      "text/plain": [
       "<Figure size 432x288 with 2 Axes>"
      ]
     },
     "metadata": {
      "needs_background": "light"
     },
     "output_type": "display_data"
    },
    {
     "data": {
      "image/png": "[encoded data removed]",
      "text/plain": [
       "<Figure size 1440x720 with 1 Axes>"
      ]
     },
     "metadata": {
      "needs_background": "light"
     },
     "output_type": "display_data"
    },
    {
     "data": {
      "text/plain": [
       "<Figure size 432x288 with 0 Axes>"
      ]
     },
     "metadata": {},
     "output_type": "display_data"
    }
   ],
   "source": [
    "#Midwest with weight L\n",
    "Midwest_weightL = pd.read_csv(\"midwest.csv\")\n",
    "cols = ['TEA','futsup','WEIGHT_L']\n",
    "Midwest_weightL = Midwest_weightL[cols]\n",
    "Midwest_weightL['WEIGHT_L'] = Midwest_weightL['WEIGHT_L'].fillna(0)\n",
    "\n",
    "\n",
    "Midwest_weightL['TEA'].value_counts()\n",
    "\n",
    "\n",
    "#Declare feature vector and target variable\n",
    "y=Midwest_weightL['TEA']\n",
    "\n",
    "new_cols = ['futsup','WEIGHT_L']\n",
    "x=Midwest_weightL[new_cols]\n",
    "\n",
    "from sklearn.model_selection import train_test_split\n",
    "X_train, X_test, y_train, y_test = train_test_split(x, y, test_size = 0.3, random_state = 0)\n",
    "W_train = X_train['WEIGHT_L']\n",
    "W_test = X_test['WEIGHT_L']\n",
    "X_train.drop(columns=['WEIGHT_L'])\n",
    "X_test.drop(columns=['WEIGHT_L'])\n",
    "\n",
    "\n",
    "# build the lightgbm model\n",
    "!pip install lightgbm\n",
    "import lightgbm as lgb\n",
    "\n",
    "clf = lgb.LGBMClassifier()\n",
    "clf.fit(X_train, y_train,sample_weight = W_train)\n",
    "\n",
    "\n",
    "\n",
    "# predict the results\n",
    "y_pred=clf.predict(X_test)\n",
    "\n",
    "# view accuracy\n",
    "from sklearn.metrics import accuracy_score\n",
    "accuracy=accuracy_score(y_pred, y_test)\n",
    "print('LightGBM Model accuracy score: {0:0.4f}'.format(accuracy_score(y_test, y_pred)))\n",
    "\n",
    "\n",
    "y_pred_train = clf.predict(X_train)\n",
    "print('Training-set accuracy score: {0:0.4f}'. format(accuracy_score(y_train, y_pred_train)))\n",
    "# print the scores on training and test set\n",
    "\n",
    "print('Training set score: {:.4f}'.format(clf.score(X_train, y_train)))\n",
    "\n",
    "print('Test set score: {:.4f}'.format(clf.score(X_test, y_test)))\n",
    "from sklearn.metrics import confusion_matrix\n",
    "cm = confusion_matrix(y_test, y_pred)\n",
    "print('Confusion matrix\\n\\n', cm)\n",
    "print('\\nTrue Positives(TP) = ', cm[0,0])\n",
    "print('\\nTrue Negatives(TN) = ', cm[1,1])\n",
    "print('\\nFalse Positives(FP) = ', cm[0,1])\n",
    "print('\\nFalse Negatives(FN) = ', cm[1,0])\n",
    "# visualize confusion matrix with seaborn heatmap\n",
    "\n",
    "cm_matrix = pd.DataFrame(data=cm, columns=['Actual Positive:1', 'Actual Negative:0'], \n",
    "                                 index=['Predict Positive:1', 'Predict Negative:0'])\n",
    "\n",
    "sns.heatmap(cm_matrix, annot=True, fmt='d', cmap='YlGnBu')\n",
    "\n",
    "from sklearn.metrics import classification_report\n",
    "print(classification_report(y_test, y_pred))\n",
    "\n",
    "\n",
    "feature_imp = pd.DataFrame(sorted(zip(clf.feature_importances_,Midwest_weightL.columns)), columns=['Value','Feature'])\n",
    "\n",
    "plt.figure(figsize=(20, 10))\n",
    "sns.barplot(x=\"Value\", y=\"Feature\", data=feature_imp.sort_values(by=\"Value\", ascending=False))\n",
    "plt.title('LightGBM Features for Midwest (age between 18 - 64) (avg over folds)')\n",
    "plt.tight_layout()\n",
    "plt.show()\n",
    "plt.savefig('lgbm_importances-01.png')\n",
    "\n"
   ]
  },
  {
   "cell_type": "code",
   "execution_count": null,
   "metadata": {},
   "outputs": [
    {
     "name": "stdout",
     "output_type": "stream",
     "text": [
      "Requirement already satisfied: lightgbm in d:\\anaconda\\lib\\site-packages (3.3.1)\n",
      "Requirement already satisfied: scipy in d:\\anaconda\\lib\\site-packages (from lightgbm) (1.6.2)\n",
      "Requirement already satisfied: wheel in d:\\anaconda\\lib\\site-packages (from lightgbm) (0.36.2)\n",
      "Requirement already satisfied: scikit-learn!=0.22.0 in d:\\anaconda\\lib\\site-packages (from lightgbm) (0.24.1)\n",
      "Requirement already satisfied: numpy in d:\\anaconda\\lib\\site-packages (from lightgbm) (1.20.1)\n",
      "Requirement already satisfied: threadpoolctl>=2.0.0 in d:\\anaconda\\lib\\site-packages (from scikit-learn!=0.22.0->lightgbm) (2.1.0)\n",
      "Requirement already satisfied: joblib>=0.11 in d:\\anaconda\\lib\\site-packages (from scikit-learn!=0.22.0->lightgbm) (1.0.1)\n",
      "LightGBM Model accuracy score: 0.8789\n",
      "Training-set accuracy score: 0.8977\n",
      "Training set score: 0.8977\n",
      "Test set score: 0.8789\n",
      "Confusion matrix\n",
      "\n",
      " [[193   5]\n",
      " [ 22   3]]\n",
      "\n",
      "True Positives(TP) =  193\n",
      "\n",
      "True Negatives(TN) =  3\n",
      "\n",
      "False Positives(FP) =  5\n",
      "\n",
      "False Negatives(FN) =  22\n",
      "              precision    recall  f1-score   support\n",
      "\n",
      "           0       0.90      0.97      0.93       198\n",
      "           1       0.38      0.12      0.18        25\n",
      "\n",
      "    accuracy                           0.88       223\n",
      "   macro avg       0.64      0.55      0.56       223\n",
      "weighted avg       0.84      0.88      0.85       223\n",
      "\n"
     ]
    },
    {
     "data": {
      "image/png": "[encoded data removed]",
      "text/plain": [
       "<Figure size 432x288 with 2 Axes>"
      ]
     },
     "metadata": {
      "needs_background": "light"
     },
     "output_type": "display_data"
    },
    {
     "data": {
      "image/png": "[encoded data removed]",
      "text/plain": [
       "<Figure size 1440x720 with 1 Axes>"
      ]
     },
     "metadata": {
      "needs_background": "light"
     },
     "output_type": "display_data"
    },
    {
     "data": {
      "text/plain": [
       "<Figure size 432x288 with 0 Axes>"
      ]
     },
     "metadata": {},
     "output_type": "display_data"
    }
   ],
   "source": [
    "#Mountain with Weight A\n",
    "\n",
    "mountain_plains = pd.read_csv(\"mountain_plains.csv\")\n",
    "cols = ['TEA','knowent', 'suskill', 'futsup','opport','WEIGHT_A']\n",
    "\n",
    "mountain_plains = mountain_plains[cols]\n",
    "mountain_plains['TEA'].value_counts()\n",
    "\n",
    "\n",
    "#Declare feature vector and target variable\n",
    "y=mountain_plains['TEA']\n",
    "\n",
    "new_cols = ['futsup','WEIGHT_A']\n",
    "x=mountain_plains[new_cols]\n",
    "\n",
    "from sklearn.model_selection import train_test_split\n",
    "X_train, X_test, y_train, y_test = train_test_split(x, y, test_size = 0.3, random_state = 0)\n",
    "W_train = X_train['WEIGHT_A']\n",
    "W_test = X_test['WEIGHT_A']\n",
    "X_train.drop(columns=['WEIGHT_A'])\n",
    "X_test.drop(columns=['WEIGHT_A'])\n",
    "\n",
    "\n",
    "# build the lightgbm model\n",
    "!pip install lightgbm\n",
    "import lightgbm as lgb\n",
    "\n",
    "clf = lgb.LGBMClassifier()\n",
    "clf.fit(X_train, y_train,sample_weight = W_train)\n",
    "\n",
    "\n",
    "\n",
    "# predict the results\n",
    "y_pred=clf.predict(X_test)\n",
    "\n",
    "# view accuracy\n",
    "from sklearn.metrics import accuracy_score\n",
    "accuracy=accuracy_score(y_pred, y_test)\n",
    "print('LightGBM Model accuracy score: {0:0.4f}'.format(accuracy_score(y_test, y_pred)))\n",
    "\n",
    "\n",
    "y_pred_train = clf.predict(X_train)\n",
    "print('Training-set accuracy score: {0:0.4f}'. format(accuracy_score(y_train, y_pred_train)))\n",
    "# print the scores on training and test set\n",
    "\n",
    "print('Training set score: {:.4f}'.format(clf.score(X_train, y_train)))\n",
    "\n",
    "print('Test set score: {:.4f}'.format(clf.score(X_test, y_test)))\n",
    "from sklearn.metrics import confusion_matrix\n",
    "cm = confusion_matrix(y_test, y_pred)\n",
    "print('Confusion matrix\\n\\n', cm)\n",
    "print('\\nTrue Positives(TP) = ', cm[0,0])\n",
    "print('\\nTrue Negatives(TN) = ', cm[1,1])\n",
    "print('\\nFalse Positives(FP) = ', cm[0,1])\n",
    "print('\\nFalse Negatives(FN) = ', cm[1,0])\n",
    "# visualize confusion matrix with seaborn heatmap\n",
    "\n",
    "cm_matrix = pd.DataFrame(data=cm, columns=['Actual Positive:1', 'Actual Negative:0'], \n",
    "                                 index=['Predict Positive:1', 'Predict Negative:0'])\n",
    "\n",
    "sns.heatmap(cm_matrix, annot=True, fmt='d', cmap='YlGnBu')\n",
    "\n",
    "from sklearn.metrics import classification_report\n",
    "print(classification_report(y_test, y_pred))\n",
    "\n",
    "\n",
    "feature_imp = pd.DataFrame(sorted(zip(clf.feature_importances_,mountain_plains.columns)), columns=['Value','Feature'])\n",
    "\n",
    "plt.figure(figsize=(20, 10))\n",
    "sns.barplot(x=\"Value\", y=\"Feature\", data=feature_imp.sort_values(by=\"Value\", ascending=False))\n",
    "plt.title('LightGBM Features for mountain_plains')\n",
    "plt.tight_layout()\n",
    "plt.show()\n",
    "plt.savefig('lgbm_importances-01.png')\n",
    "\n",
    "\n"
   ]
  }
 ],
 "metadata": {
  "interpreter": {
   "hash": "944d2443417a16dbc081b1221cf483c5aeb0607371e4ffc48bed40a8bfd6568a"
  },
  "kernelspec": {
   "display_name": "Python 3.9.7 64-bit (windows store)",
   "language": "python",
   "name": "python3"
  },
  "language_info": {
   "codemirror_mode": {
    "name": "ipython",
    "version": 3
   },
   "file_extension": ".py",
   "mimetype": "text/x-python",
   "name": "python",
   "nbconvert_exporter": "python",
   "pygments_lexer": "ipython3",
   "version": "3.8.8"
  },
  "orig_nbformat": 4
 },
 "nbformat": 4,
 "nbformat_minor": 2
}
